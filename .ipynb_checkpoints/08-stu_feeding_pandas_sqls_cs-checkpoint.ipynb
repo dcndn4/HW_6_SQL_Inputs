{
 "cells": [
  {
   "cell_type": "markdown",
   "metadata": {},
   "source": [
    "# Students Do: Feeding Pandas with SQL"
   ]
  },
  {
   "cell_type": "code",
   "execution_count": 11,
   "metadata": {},
   "outputs": [],
   "source": [
    "# Initial imports\n",
    "import os\n",
    "from dotenv import load_dotenv\n",
    "import pandas as pd\n",
    "import pathlib\n",
    "import hvplot.pandas\n",
    "import psycopg2\n",
    "from sqlalchemy import create_engine"
   ]
  },
  {
   "cell_type": "markdown",
   "metadata": {},
   "source": [
    "## Create a connection to the `agent_db` database"
   ]
  },
  {
   "cell_type": "code",
   "execution_count": 12,
   "metadata": {},
   "outputs": [],
   "source": [
    "# Load .env enviroment variables\n",
    "home = pathlib.Path.home() / \".env\"  # for pc 1/2\n",
    "load_dotenv(dotenv_path=home)  # for pc 2/2\n",
    "\n",
    "\n",
    "# Set sqlalchemy connection\n",
    "conn_str_main = os.getenv(\"conn_str_main\")\n",
    "database = \"postgres\"\n",
    "\n",
    "# Define the database URL\n",
    "db_url = conn_str_main+database\n",
    "\n",
    "# Create the engine object\n",
    "engine = create_engine(db_url)"
   ]
  },
  {
   "cell_type": "markdown",
   "metadata": {},
   "source": [
    "## Create a DataFrame with the names of all agents"
   ]
  },
  {
   "cell_type": "code",
   "execution_count": 13,
   "metadata": {},
   "outputs": [
    {
     "data": {
      "text/html": [
       "<div>\n",
       "<style scoped>\n",
       "    .dataframe tbody tr th:only-of-type {\n",
       "        vertical-align: middle;\n",
       "    }\n",
       "\n",
       "    .dataframe tbody tr th {\n",
       "        vertical-align: top;\n",
       "    }\n",
       "\n",
       "    .dataframe thead th {\n",
       "        text-align: right;\n",
       "    }\n",
       "</style>\n",
       "<table border=\"1\" class=\"dataframe\">\n",
       "  <thead>\n",
       "    <tr style=\"text-align: right;\">\n",
       "      <th></th>\n",
       "      <th>estate_id</th>\n",
       "      <th>owner_id</th>\n",
       "      <th>address</th>\n",
       "      <th>city</th>\n",
       "      <th>state</th>\n",
       "      <th>zip_code</th>\n",
       "      <th>type</th>\n",
       "    </tr>\n",
       "  </thead>\n",
       "  <tbody>\n",
       "    <tr>\n",
       "      <th>0</th>\n",
       "      <td>1</td>\n",
       "      <td>141</td>\n",
       "      <td>147 Jupiter Lane Apartment 2F</td>\n",
       "      <td>Pasadena</td>\n",
       "      <td>CA</td>\n",
       "      <td>91101</td>\n",
       "      <td>None</td>\n",
       "    </tr>\n",
       "    <tr>\n",
       "      <th>1</th>\n",
       "      <td>2</td>\n",
       "      <td>232</td>\n",
       "      <td>5 Calina Drive</td>\n",
       "      <td>Allentown</td>\n",
       "      <td>PA</td>\n",
       "      <td>18101</td>\n",
       "      <td>None</td>\n",
       "    </tr>\n",
       "    <tr>\n",
       "      <th>2</th>\n",
       "      <td>3</td>\n",
       "      <td>353</td>\n",
       "      <td>918 Sinclaire Court</td>\n",
       "      <td>Phoenix</td>\n",
       "      <td>AZ</td>\n",
       "      <td>85004</td>\n",
       "      <td>None</td>\n",
       "    </tr>\n",
       "    <tr>\n",
       "      <th>3</th>\n",
       "      <td>4</td>\n",
       "      <td>353</td>\n",
       "      <td>1727 Kalimar Road</td>\n",
       "      <td>Eugene</td>\n",
       "      <td>OR</td>\n",
       "      <td>97401</td>\n",
       "      <td>None</td>\n",
       "    </tr>\n",
       "    <tr>\n",
       "      <th>4</th>\n",
       "      <td>5</td>\n",
       "      <td>424</td>\n",
       "      <td>128 Sandy Beach Road</td>\n",
       "      <td>Avalon</td>\n",
       "      <td>NJ</td>\n",
       "      <td>8202</td>\n",
       "      <td>None</td>\n",
       "    </tr>\n",
       "    <tr>\n",
       "      <th>5</th>\n",
       "      <td>6</td>\n",
       "      <td>551</td>\n",
       "      <td>14 Honey Road</td>\n",
       "      <td>Lawrence</td>\n",
       "      <td>KS</td>\n",
       "      <td>66044</td>\n",
       "      <td>None</td>\n",
       "    </tr>\n",
       "    <tr>\n",
       "      <th>6</th>\n",
       "      <td>7</td>\n",
       "      <td>612</td>\n",
       "      <td>19 Stockton Avenue</td>\n",
       "      <td>Austin</td>\n",
       "      <td>TX</td>\n",
       "      <td>78701</td>\n",
       "      <td>None</td>\n",
       "    </tr>\n",
       "    <tr>\n",
       "      <th>7</th>\n",
       "      <td>8</td>\n",
       "      <td>612</td>\n",
       "      <td>323 Silamento Lane Apartment 4122</td>\n",
       "      <td>Rockville</td>\n",
       "      <td>MD</td>\n",
       "      <td>20847</td>\n",
       "      <td>None</td>\n",
       "    </tr>\n",
       "  </tbody>\n",
       "</table>\n",
       "</div>"
      ],
      "text/plain": [
       "   estate_id  owner_id                            address       city state  \\\n",
       "0          1       141      147 Jupiter Lane Apartment 2F   Pasadena    CA   \n",
       "1          2       232                     5 Calina Drive  Allentown    PA   \n",
       "2          3       353                918 Sinclaire Court    Phoenix    AZ   \n",
       "3          4       353                  1727 Kalimar Road     Eugene    OR   \n",
       "4          5       424               128 Sandy Beach Road     Avalon    NJ   \n",
       "5          6       551                      14 Honey Road   Lawrence    KS   \n",
       "6          7       612                 19 Stockton Avenue     Austin    TX   \n",
       "7          8       612  323 Silamento Lane Apartment 4122  Rockville    MD   \n",
       "\n",
       "  zip_code  type  \n",
       "0    91101  None  \n",
       "1    18101  None  \n",
       "2    85004  None  \n",
       "3    97401  None  \n",
       "4     8202  None  \n",
       "5    66044  None  \n",
       "6    78701  None  \n",
       "7    20847  None  "
      ]
     },
     "execution_count": 13,
     "metadata": {},
     "output_type": "execute_result"
    }
   ],
   "source": [
    "# Write the SQL query\n",
    "query = \"SELECT * FROM estates\"\n",
    "\n",
    "# Read the SQL query into a DataFrame\n",
    "estates_df = pd.read_sql(query, engine)\n",
    "\n",
    "# Show the DataFrame's head\n",
    "estates_df"
   ]
  },
  {
   "cell_type": "markdown",
   "metadata": {},
   "source": [
    "## Create a DataFrame with Region Count per Agent ID"
   ]
  },
  {
   "cell_type": "code",
   "execution_count": 14,
   "metadata": {},
   "outputs": [
    {
     "data": {
      "text/html": [
       "<div>\n",
       "<style scoped>\n",
       "    .dataframe tbody tr th:only-of-type {\n",
       "        vertical-align: middle;\n",
       "    }\n",
       "\n",
       "    .dataframe tbody tr th {\n",
       "        vertical-align: top;\n",
       "    }\n",
       "\n",
       "    .dataframe thead th {\n",
       "        text-align: right;\n",
       "    }\n",
       "</style>\n",
       "<table border=\"1\" class=\"dataframe\">\n",
       "  <thead>\n",
       "    <tr style=\"text-align: right;\">\n",
       "      <th></th>\n",
       "      <th>agent_id</th>\n",
       "      <th>region_count</th>\n",
       "    </tr>\n",
       "  </thead>\n",
       "  <tbody>\n",
       "    <tr>\n",
       "      <th>0</th>\n",
       "      <td>3</td>\n",
       "      <td>3</td>\n",
       "    </tr>\n",
       "    <tr>\n",
       "      <th>1</th>\n",
       "      <td>2</td>\n",
       "      <td>2</td>\n",
       "    </tr>\n",
       "    <tr>\n",
       "      <th>2</th>\n",
       "      <td>1</td>\n",
       "      <td>2</td>\n",
       "    </tr>\n",
       "  </tbody>\n",
       "</table>\n",
       "</div>"
      ],
      "text/plain": [
       "   agent_id  region_count\n",
       "0         3             3\n",
       "1         2             2\n",
       "2         1             2"
      ]
     },
     "execution_count": 14,
     "metadata": {},
     "output_type": "execute_result"
    }
   ],
   "source": [
    "# Write the SQL query\n",
    "query = \"\"\"\n",
    "SELECT agent_id, COUNT(region_id) as region_count\n",
    "FROM agent_region_junction\n",
    "GROUP BY agent_id\n",
    "\"\"\"\n",
    "\n",
    "# Read the SQL query into a DataFrame\n",
    "agent_region_df = pd.read_sql(query, engine)\n",
    "\n",
    "# Show the DataFrame's head\n",
    "agent_region_df"
   ]
  },
  {
   "cell_type": "markdown",
   "metadata": {},
   "source": [
    "## Create a Bar Chart Showing Region Count per Agent ID"
   ]
  },
  {
   "cell_type": "code",
   "execution_count": 15,
   "metadata": {},
   "outputs": [
    {
     "data": {},
     "metadata": {},
     "output_type": "display_data"
    },
    {
     "data": {
      "application/vnd.holoviews_exec.v0+json": "",
      "text/html": [
       "<div id='1371'>\n",
       "\n",
       "\n",
       "\n",
       "\n",
       "\n",
       "  <div class=\"bk-root\" id=\"76fdb27d-252c-440d-ae06-dc829f095366\" data-root-id=\"1371\"></div>\n",
       "</div>\n",
       "<script type=\"application/javascript\">(function(root) {\n",
       "  function embed_document(root) {\n",
       "    var docs_json = {\"fa2cfa9f-6013-4413-8e46-a2bddb464f11\":{\"defs\":[{\"extends\":null,\"module\":null,\"name\":\"ReactiveHTML1\",\"overrides\":[],\"properties\":[]},{\"extends\":null,\"module\":null,\"name\":\"FlexBox1\",\"overrides\":[],\"properties\":[{\"default\":\"flex-start\",\"kind\":null,\"name\":\"align_content\"},{\"default\":\"flex-start\",\"kind\":null,\"name\":\"align_items\"},{\"default\":\"row\",\"kind\":null,\"name\":\"flex_direction\"},{\"default\":\"wrap\",\"kind\":null,\"name\":\"flex_wrap\"},{\"default\":\"flex-start\",\"kind\":null,\"name\":\"justify_content\"}]},{\"extends\":null,\"module\":null,\"name\":\"TemplateActions1\",\"overrides\":[],\"properties\":[{\"default\":0,\"kind\":null,\"name\":\"open_modal\"},{\"default\":0,\"kind\":null,\"name\":\"close_modal\"}]},{\"extends\":null,\"module\":null,\"name\":\"MaterialTemplateActions1\",\"overrides\":[],\"properties\":[{\"default\":0,\"kind\":null,\"name\":\"open_modal\"},{\"default\":0,\"kind\":null,\"name\":\"close_modal\"}]}],\"roots\":{\"references\":[{\"attributes\":{\"callback\":null,\"renderers\":[{\"id\":\"1414\"}],\"tags\":[\"hv_created\"],\"tooltips\":[[\"agent_id\",\"@{agent_id}\"],[\"region_count\",\"@{region_count}\"]]},\"id\":\"1375\",\"type\":\"HoverTool\"},{\"attributes\":{},\"id\":\"1430\",\"type\":\"UnionRenderers\"},{\"attributes\":{\"axis\":{\"id\":\"1385\"},\"grid_line_color\":null,\"ticker\":null},\"id\":\"1387\",\"type\":\"Grid\"},{\"attributes\":{},\"id\":\"1417\",\"type\":\"CategoricalTickFormatter\"},{\"attributes\":{\"axis\":{\"id\":\"1388\"},\"dimension\":1,\"grid_line_color\":null,\"ticker\":null},\"id\":\"1391\",\"type\":\"Grid\"},{\"attributes\":{\"factors\":[\"3\",\"2\",\"1\"],\"tags\":[[[\"agent_id\",\"agent_id\",null]]]},\"id\":\"1373\",\"type\":\"FactorRange\"},{\"attributes\":{\"margin\":[5,5,5,5],\"name\":\"HSpacer02085\",\"sizing_mode\":\"stretch_width\"},\"id\":\"1442\",\"type\":\"Spacer\"},{\"attributes\":{},\"id\":\"1389\",\"type\":\"BasicTicker\"},{\"attributes\":{\"axis_label\":\"Region Count\",\"formatter\":{\"id\":\"1420\"},\"major_label_policy\":{\"id\":\"1421\"},\"ticker\":{\"id\":\"1389\"}},\"id\":\"1388\",\"type\":\"LinearAxis\"},{\"attributes\":{\"active_multi\":null,\"tools\":[{\"id\":\"1375\"},{\"id\":\"1392\"},{\"id\":\"1393\"},{\"id\":\"1394\"},{\"id\":\"1395\"},{\"id\":\"1396\"}]},\"id\":\"1398\",\"type\":\"Toolbar\"},{\"attributes\":{\"fill_alpha\":{\"value\":0.2},\"fill_color\":{\"field\":\"color\",\"transform\":{\"id\":\"1405\"}},\"line_alpha\":{\"value\":0.2},\"top\":{\"field\":\"region_count\"},\"width\":{\"value\":0.8},\"x\":{\"field\":\"agent_id\"}},\"id\":\"1413\",\"type\":\"VBar\"},{\"attributes\":{\"bottom_units\":\"screen\",\"fill_alpha\":0.5,\"fill_color\":\"lightgrey\",\"left_units\":\"screen\",\"level\":\"overlay\",\"line_alpha\":1.0,\"line_color\":\"black\",\"line_dash\":[4,4],\"line_width\":2,\"right_units\":\"screen\",\"syncable\":false,\"top_units\":\"screen\"},\"id\":\"1397\",\"type\":\"BoxAnnotation\"},{\"attributes\":{},\"id\":\"1416\",\"type\":\"AllLabels\"},{\"attributes\":{\"data\":{\"agent_id\":[\"3\",\"2\",\"1\"],\"color\":[3,2,2],\"region_count\":[3,2,2]},\"selected\":{\"id\":\"1407\"},\"selection_policy\":{\"id\":\"1430\"}},\"id\":\"1406\",\"type\":\"ColumnDataSource\"},{\"attributes\":{\"margin\":[5,5,5,5],\"name\":\"HSpacer02084\",\"sizing_mode\":\"stretch_width\"},\"id\":\"1372\",\"type\":\"Spacer\"},{\"attributes\":{},\"id\":\"1420\",\"type\":\"BasicTickFormatter\"},{\"attributes\":{\"high\":3,\"low\":2,\"palette\":[\"#b3fef5\",\"#b0fef5\",\"#adfdf5\",\"#a9fcf5\",\"#a6fbf6\",\"#a3faf6\",\"#a0faf6\",\"#9df9f6\",\"#9af8f6\",\"#97f7f6\",\"#93f7f6\",\"#90f6f6\",\"#8df5f6\",\"#8af4f7\",\"#87f3f7\",\"#83f2f7\",\"#80f2f7\",\"#7df1f7\",\"#79f0f7\",\"#76eff7\",\"#73eef7\",\"#6fedf8\",\"#6cecf8\",\"#68ecf8\",\"#65ebf8\",\"#61eaf8\",\"#5ee9f8\",\"#5ae8f8\",\"#57e7f8\",\"#53e6f8\",\"#50e5f9\",\"#4ce4f9\",\"#49e3f9\",\"#45e2f9\",\"#42e1f9\",\"#3ee0f9\",\"#3bdff9\",\"#38def9\",\"#35ddf9\",\"#32dcf9\",\"#30dbfa\",\"#2ed9fa\",\"#2dd8fa\",\"#2cd7fa\",\"#2bd6fa\",\"#2bd5fa\",\"#2ad3fa\",\"#2ad2fa\",\"#29d1fa\",\"#29d0fb\",\"#29cffb\",\"#28cdfb\",\"#28ccfb\",\"#28cbfb\",\"#28cafb\",\"#28c8fb\",\"#28c7fb\",\"#29c6fb\",\"#29c5fb\",\"#29c4fb\",\"#29c2fb\",\"#2ac1fb\",\"#2ac0fb\",\"#2bbffb\",\"#2bbdfc\",\"#2cbcfc\",\"#2dbbfc\",\"#2db9fc\",\"#2eb8fc\",\"#2fb7fc\",\"#2fb6fc\",\"#30b4fc\",\"#31b3fc\",\"#32b2fc\",\"#32b0fc\",\"#33affc\",\"#33aefc\",\"#34adfc\",\"#34abfc\",\"#34aafc\",\"#35a9fc\",\"#35a8fc\",\"#35a6fc\",\"#35a5fc\",\"#35a4fc\",\"#35a3fc\",\"#35a1fc\",\"#35a0fc\",\"#359ffc\",\"#359dfc\",\"#359cfc\",\"#359bfc\",\"#349afd\",\"#3498fd\",\"#3497fd\",\"#3396fd\",\"#3395fd\",\"#3293fd\",\"#3292fd\",\"#3191fd\",\"#3090fd\",\"#308ffd\",\"#2f8dfd\",\"#2f8cfd\",\"#2e8bfd\",\"#2e8afd\",\"#2d88fd\",\"#2d87fd\",\"#2c86fd\",\"#2c84fd\",\"#2c83fd\",\"#2c82fd\",\"#2b81fd\",\"#2b7ffd\",\"#2b7efd\",\"#2b7dfd\",\"#2b7bfd\",\"#2b7afd\",\"#2b79fd\",\"#2b77fd\",\"#2b76fd\",\"#2b75fd\",\"#2b73fd\",\"#2c72fd\",\"#2c71fd\",\"#2c6ffd\",\"#2c6efd\",\"#2d6cfd\",\"#2d6bfd\",\"#2d6afc\",\"#2e68fc\",\"#2e67fc\",\"#2e65fc\",\"#2e64fc\",\"#2f62fc\",\"#2f61fc\",\"#2f5ffc\",\"#2f5efc\",\"#2f5dfc\",\"#2f5bfc\",\"#2f5afc\",\"#2f58fb\",\"#2f57fb\",\"#2f55fb\",\"#2f53fb\",\"#2f52fb\",\"#2f50fb\",\"#2f4ffb\",\"#2f4dfb\",\"#2e4cfb\",\"#2e4afb\",\"#2e48fb\",\"#2e47fa\",\"#2d45fa\",\"#2d43fa\",\"#2d42fa\",\"#2d40fa\",\"#2c3efa\",\"#2c3dfa\",\"#2b3bf9\",\"#2b39f9\",\"#2a37f9\",\"#2a36f8\",\"#2934f8\",\"#2832f7\",\"#2831f7\",\"#272ff6\",\"#262ef5\",\"#252cf5\",\"#252af4\",\"#2429f3\",\"#2327f2\",\"#2226f1\",\"#2124f0\",\"#2023ef\",\"#1f22ee\",\"#1e20ed\",\"#1d1feb\",\"#1c1eea\",\"#1b1ce9\",\"#1a1be7\",\"#181ae6\",\"#1719e5\",\"#1618e3\",\"#1417e1\",\"#1316e0\",\"#1215de\",\"#1014dc\",\"#0f13db\",\"#0e12d9\",\"#0d11d7\",\"#0c10d5\",\"#0b0fd3\",\"#0a0ed1\",\"#090dd0\",\"#080dce\",\"#080ccc\",\"#070bca\",\"#070ac8\",\"#0709c6\",\"#0708c4\",\"#0707c2\",\"#0707bf\",\"#0806bd\",\"#0806bb\",\"#0905b9\",\"#0904b7\",\"#0a04b5\",\"#0a04b2\",\"#0b03b0\",\"#0c03ae\",\"#0d02ab\",\"#0e02a9\",\"#0e02a7\",\"#0f02a4\",\"#0f01a2\",\"#1001a0\",\"#10019d\",\"#10019b\",\"#100199\",\"#100197\",\"#100194\",\"#0f0192\",\"#0f0190\",\"#0f018e\",\"#0e018b\",\"#0e0189\",\"#0d0187\",\"#0d0185\",\"#0c0183\",\"#0b0181\",\"#0b017e\",\"#0a017c\",\"#09017a\",\"#090178\",\"#080276\",\"#070274\",\"#060272\",\"#060270\",\"#05026e\",\"#04026c\",\"#030269\",\"#030267\",\"#020265\",\"#010263\",\"#010261\",\"#00025f\",\"#00025d\",\"#00025b\",\"#000259\",\"#000257\",\"#000255\",\"#000154\",\"#000152\",\"#000150\",\"#00004e\"]},\"id\":\"1405\",\"type\":\"LinearColorMapper\"},{\"attributes\":{\"children\":[{\"id\":\"1372\"},{\"id\":\"1376\"},{\"id\":\"1442\"}],\"margin\":[0,0,0,0],\"name\":\"Row02080\",\"tags\":[\"embedded\"]},\"id\":\"1371\",\"type\":\"Row\"},{\"attributes\":{\"end\":3.1,\"reset_end\":3.1,\"reset_start\":0.0,\"tags\":[[[\"region_count\",\"region_count\",null]]]},\"id\":\"1374\",\"type\":\"Range1d\"},{\"attributes\":{\"below\":[{\"id\":\"1385\"}],\"center\":[{\"id\":\"1387\"},{\"id\":\"1391\"}],\"height\":300,\"left\":[{\"id\":\"1388\"}],\"margin\":[5,5,5,5],\"min_border_bottom\":10,\"min_border_left\":10,\"min_border_right\":10,\"min_border_top\":10,\"renderers\":[{\"id\":\"1414\"}],\"sizing_mode\":\"fixed\",\"title\":{\"id\":\"1377\"},\"toolbar\":{\"id\":\"1398\"},\"width\":700,\"x_range\":{\"id\":\"1373\"},\"x_scale\":{\"id\":\"1381\"},\"y_range\":{\"id\":\"1374\"},\"y_scale\":{\"id\":\"1383\"}},\"id\":\"1376\",\"subtype\":\"Figure\",\"type\":\"Plot\"},{\"attributes\":{\"fill_color\":{\"field\":\"color\",\"transform\":{\"id\":\"1405\"}},\"top\":{\"field\":\"region_count\"},\"width\":{\"value\":0.8},\"x\":{\"field\":\"agent_id\"}},\"id\":\"1411\",\"type\":\"VBar\"},{\"attributes\":{\"fill_color\":{\"field\":\"color\",\"transform\":{\"id\":\"1405\"}},\"top\":{\"field\":\"region_count\"},\"width\":{\"value\":0.8},\"x\":{\"field\":\"agent_id\"}},\"id\":\"1412\",\"type\":\"VBar\"},{\"attributes\":{\"data_source\":{\"id\":\"1406\"},\"glyph\":{\"id\":\"1409\"},\"hover_glyph\":{\"id\":\"1412\"},\"muted_glyph\":{\"id\":\"1413\"},\"nonselection_glyph\":{\"id\":\"1410\"},\"selection_glyph\":{\"id\":\"1411\"},\"view\":{\"id\":\"1415\"}},\"id\":\"1414\",\"type\":\"GlyphRenderer\"},{\"attributes\":{},\"id\":\"1392\",\"type\":\"SaveTool\"},{\"attributes\":{},\"id\":\"1393\",\"type\":\"PanTool\"},{\"attributes\":{},\"id\":\"1396\",\"type\":\"ResetTool\"},{\"attributes\":{},\"id\":\"1394\",\"type\":\"WheelZoomTool\"},{\"attributes\":{},\"id\":\"1386\",\"type\":\"CategoricalTicker\"},{\"attributes\":{\"fill_alpha\":{\"value\":0.1},\"fill_color\":{\"field\":\"color\",\"transform\":{\"id\":\"1405\"}},\"line_alpha\":{\"value\":0.1},\"top\":{\"field\":\"region_count\"},\"width\":{\"value\":0.8},\"x\":{\"field\":\"agent_id\"}},\"id\":\"1410\",\"type\":\"VBar\"},{\"attributes\":{\"fill_color\":{\"field\":\"color\",\"transform\":{\"id\":\"1405\"}},\"top\":{\"field\":\"region_count\"},\"width\":{\"value\":0.8},\"x\":{\"field\":\"agent_id\"}},\"id\":\"1409\",\"type\":\"VBar\"},{\"attributes\":{\"text\":\"Number of Regions per Agent\",\"text_color\":\"black\",\"text_font_size\":\"12pt\"},\"id\":\"1377\",\"type\":\"Title\"},{\"attributes\":{\"overlay\":{\"id\":\"1397\"}},\"id\":\"1395\",\"type\":\"BoxZoomTool\"},{\"attributes\":{},\"id\":\"1407\",\"type\":\"Selection\"},{\"attributes\":{\"axis_label\":\"Agent ID\",\"formatter\":{\"id\":\"1417\"},\"major_label_policy\":{\"id\":\"1416\"},\"ticker\":{\"id\":\"1386\"}},\"id\":\"1385\",\"type\":\"CategoricalAxis\"},{\"attributes\":{},\"id\":\"1381\",\"type\":\"CategoricalScale\"},{\"attributes\":{\"source\":{\"id\":\"1406\"}},\"id\":\"1415\",\"type\":\"CDSView\"},{\"attributes\":{},\"id\":\"1421\",\"type\":\"AllLabels\"},{\"attributes\":{},\"id\":\"1383\",\"type\":\"LinearScale\"}],\"root_ids\":[\"1371\"]},\"title\":\"Bokeh Application\",\"version\":\"2.3.2\"}};\n",
       "    var render_items = [{\"docid\":\"fa2cfa9f-6013-4413-8e46-a2bddb464f11\",\"root_ids\":[\"1371\"],\"roots\":{\"1371\":\"76fdb27d-252c-440d-ae06-dc829f095366\"}}];\n",
       "    root.Bokeh.embed.embed_items_notebook(docs_json, render_items);\n",
       "  }\n",
       "  if (root.Bokeh !== undefined && root.Bokeh.Panel !== undefined) {\n",
       "    embed_document(root);\n",
       "  } else {\n",
       "    var attempts = 0;\n",
       "    var timer = setInterval(function(root) {\n",
       "      if (root.Bokeh !== undefined && root.Bokeh.Panel !== undefined) {\n",
       "        clearInterval(timer);\n",
       "        embed_document(root);\n",
       "      } else if (document.readyState == \"complete\") {\n",
       "        attempts++;\n",
       "        if (attempts > 200) {\n",
       "          clearInterval(timer);\n",
       "          console.log(\"Bokeh: ERROR: Unable to run BokehJS code because BokehJS library is missing\");\n",
       "        }\n",
       "      }\n",
       "    }, 25, root)\n",
       "  }\n",
       "})(window);</script>"
      ],
      "text/plain": [
       ":Bars   [agent_id]   (region_count)"
      ]
     },
     "execution_count": 15,
     "metadata": {
      "application/vnd.holoviews_exec.v0+json": {
       "id": "1371"
      }
     },
     "output_type": "execute_result"
    }
   ],
   "source": [
    "# Create the bar chart usig hvplot\n",
    "agent_region_df.hvplot.bar(\n",
    "    x=\"agent_id\",\n",
    "    y=\"region_count\",\n",
    "    xlabel=\"Agent ID\",\n",
    "    ylabel=\"Region Count\",\n",
    "    title=\"Number of Regions per Agent\",\n",
    "    color=\"region_count\",\n",
    ")\n"
   ]
  },
  {
   "cell_type": "markdown",
   "metadata": {},
   "source": [
    "## Create a DataFrame with Region Count per Agent Name"
   ]
  },
  {
   "cell_type": "code",
   "execution_count": 16,
   "metadata": {},
   "outputs": [
    {
     "data": {
      "text/html": [
       "<div>\n",
       "<style scoped>\n",
       "    .dataframe tbody tr th:only-of-type {\n",
       "        vertical-align: middle;\n",
       "    }\n",
       "\n",
       "    .dataframe tbody tr th {\n",
       "        vertical-align: top;\n",
       "    }\n",
       "\n",
       "    .dataframe thead th {\n",
       "        text-align: right;\n",
       "    }\n",
       "</style>\n",
       "<table border=\"1\" class=\"dataframe\">\n",
       "  <thead>\n",
       "    <tr style=\"text-align: right;\">\n",
       "      <th></th>\n",
       "      <th>agent_name</th>\n",
       "      <th>region_count</th>\n",
       "    </tr>\n",
       "  </thead>\n",
       "  <tbody>\n",
       "    <tr>\n",
       "      <th>0</th>\n",
       "      <td>Karen Clinton</td>\n",
       "      <td>3</td>\n",
       "    </tr>\n",
       "    <tr>\n",
       "      <th>1</th>\n",
       "      <td>Diana Lee</td>\n",
       "      <td>2</td>\n",
       "    </tr>\n",
       "    <tr>\n",
       "      <th>2</th>\n",
       "      <td>Anthony Garcia</td>\n",
       "      <td>2</td>\n",
       "    </tr>\n",
       "  </tbody>\n",
       "</table>\n",
       "</div>"
      ],
      "text/plain": [
       "       agent_name  region_count\n",
       "0   Karen Clinton             3\n",
       "1       Diana Lee             2\n",
       "2  Anthony Garcia             2"
      ]
     },
     "execution_count": 16,
     "metadata": {},
     "output_type": "execute_result"
    }
   ],
   "source": [
    "# Write the SQL query\n",
    "query = \"\"\"\n",
    "SELECT CONCAT(a.first_name, ' ', a.last_name) as agent_name, COUNT(region_id) as region_count\n",
    "FROM agents as a\n",
    "LEFT JOIN agent_region_junction as b ON a.agent_id = b.agent_id\n",
    "GROUP BY CONCAT(a.first_name, ' ', a.last_name)\n",
    "\"\"\"\n",
    "\n",
    "# Read the SQL query into a DataFrame\n",
    "agent_region_df = pd.read_sql(query, engine)\n",
    "\n",
    "# Show the DataFrame's head\n",
    "agent_region_df"
   ]
  },
  {
   "cell_type": "markdown",
   "metadata": {},
   "source": [
    "## Create a Bar Chart Showing Region Count per Agent ID"
   ]
  },
  {
   "cell_type": "code",
   "execution_count": 17,
   "metadata": {},
   "outputs": [
    {
     "data": {},
     "metadata": {},
     "output_type": "display_data"
    },
    {
     "data": {
      "application/vnd.holoviews_exec.v0+json": "",
      "text/html": [
       "<div id='1494'>\n",
       "\n",
       "\n",
       "\n",
       "\n",
       "\n",
       "  <div class=\"bk-root\" id=\"fd32f3e4-6557-478f-a9c5-4aa6c601ebfd\" data-root-id=\"1494\"></div>\n",
       "</div>\n",
       "<script type=\"application/javascript\">(function(root) {\n",
       "  function embed_document(root) {\n",
       "    var docs_json = {\"b9821cfc-e776-4f16-81c2-acdd3289c47a\":{\"defs\":[{\"extends\":null,\"module\":null,\"name\":\"ReactiveHTML1\",\"overrides\":[],\"properties\":[]},{\"extends\":null,\"module\":null,\"name\":\"FlexBox1\",\"overrides\":[],\"properties\":[{\"default\":\"flex-start\",\"kind\":null,\"name\":\"align_content\"},{\"default\":\"flex-start\",\"kind\":null,\"name\":\"align_items\"},{\"default\":\"row\",\"kind\":null,\"name\":\"flex_direction\"},{\"default\":\"wrap\",\"kind\":null,\"name\":\"flex_wrap\"},{\"default\":\"flex-start\",\"kind\":null,\"name\":\"justify_content\"}]},{\"extends\":null,\"module\":null,\"name\":\"TemplateActions1\",\"overrides\":[],\"properties\":[{\"default\":0,\"kind\":null,\"name\":\"open_modal\"},{\"default\":0,\"kind\":null,\"name\":\"close_modal\"}]},{\"extends\":null,\"module\":null,\"name\":\"MaterialTemplateActions1\",\"overrides\":[],\"properties\":[{\"default\":0,\"kind\":null,\"name\":\"open_modal\"},{\"default\":0,\"kind\":null,\"name\":\"close_modal\"}]}],\"roots\":{\"references\":[{\"attributes\":{\"fill_alpha\":{\"value\":0.2},\"fill_color\":{\"field\":\"color\",\"transform\":{\"id\":\"1528\"}},\"line_alpha\":{\"value\":0.2},\"top\":{\"field\":\"region_count\"},\"width\":{\"value\":0.8},\"x\":{\"field\":\"agent_name\"}},\"id\":\"1536\",\"type\":\"VBar\"},{\"attributes\":{\"axis\":{\"id\":\"1508\"},\"grid_line_color\":null,\"ticker\":null},\"id\":\"1510\",\"type\":\"Grid\"},{\"attributes\":{\"fill_color\":{\"field\":\"color\",\"transform\":{\"id\":\"1528\"}},\"top\":{\"field\":\"region_count\"},\"width\":{\"value\":0.8},\"x\":{\"field\":\"agent_name\"}},\"id\":\"1532\",\"type\":\"VBar\"},{\"attributes\":{},\"id\":\"1506\",\"type\":\"LinearScale\"},{\"attributes\":{\"callback\":null,\"renderers\":[{\"id\":\"1537\"}],\"tags\":[\"hv_created\"],\"tooltips\":[[\"agent_name\",\"@{agent_name}\"],[\"region_count\",\"@{region_count}\"]]},\"id\":\"1498\",\"type\":\"HoverTool\"},{\"attributes\":{},\"id\":\"1543\",\"type\":\"BasicTickFormatter\"},{\"attributes\":{},\"id\":\"1530\",\"type\":\"Selection\"},{\"attributes\":{\"axis\":{\"id\":\"1511\"},\"dimension\":1,\"grid_line_color\":null,\"ticker\":null},\"id\":\"1514\",\"type\":\"Grid\"},{\"attributes\":{},\"id\":\"1539\",\"type\":\"AllLabels\"},{\"attributes\":{\"margin\":[5,5,5,5],\"name\":\"HSpacer02235\",\"sizing_mode\":\"stretch_width\"},\"id\":\"1495\",\"type\":\"Spacer\"},{\"attributes\":{\"children\":[{\"id\":\"1495\"},{\"id\":\"1499\"},{\"id\":\"1565\"}],\"margin\":[0,0,0,0],\"name\":\"Row02231\",\"tags\":[\"embedded\"]},\"id\":\"1494\",\"type\":\"Row\"},{\"attributes\":{\"bottom_units\":\"screen\",\"fill_alpha\":0.5,\"fill_color\":\"lightgrey\",\"left_units\":\"screen\",\"level\":\"overlay\",\"line_alpha\":1.0,\"line_color\":\"black\",\"line_dash\":[4,4],\"line_width\":2,\"right_units\":\"screen\",\"syncable\":false,\"top_units\":\"screen\"},\"id\":\"1520\",\"type\":\"BoxAnnotation\"},{\"attributes\":{\"high\":3,\"low\":2,\"palette\":[\"#b3fef5\",\"#b0fef5\",\"#adfdf5\",\"#a9fcf5\",\"#a6fbf6\",\"#a3faf6\",\"#a0faf6\",\"#9df9f6\",\"#9af8f6\",\"#97f7f6\",\"#93f7f6\",\"#90f6f6\",\"#8df5f6\",\"#8af4f7\",\"#87f3f7\",\"#83f2f7\",\"#80f2f7\",\"#7df1f7\",\"#79f0f7\",\"#76eff7\",\"#73eef7\",\"#6fedf8\",\"#6cecf8\",\"#68ecf8\",\"#65ebf8\",\"#61eaf8\",\"#5ee9f8\",\"#5ae8f8\",\"#57e7f8\",\"#53e6f8\",\"#50e5f9\",\"#4ce4f9\",\"#49e3f9\",\"#45e2f9\",\"#42e1f9\",\"#3ee0f9\",\"#3bdff9\",\"#38def9\",\"#35ddf9\",\"#32dcf9\",\"#30dbfa\",\"#2ed9fa\",\"#2dd8fa\",\"#2cd7fa\",\"#2bd6fa\",\"#2bd5fa\",\"#2ad3fa\",\"#2ad2fa\",\"#29d1fa\",\"#29d0fb\",\"#29cffb\",\"#28cdfb\",\"#28ccfb\",\"#28cbfb\",\"#28cafb\",\"#28c8fb\",\"#28c7fb\",\"#29c6fb\",\"#29c5fb\",\"#29c4fb\",\"#29c2fb\",\"#2ac1fb\",\"#2ac0fb\",\"#2bbffb\",\"#2bbdfc\",\"#2cbcfc\",\"#2dbbfc\",\"#2db9fc\",\"#2eb8fc\",\"#2fb7fc\",\"#2fb6fc\",\"#30b4fc\",\"#31b3fc\",\"#32b2fc\",\"#32b0fc\",\"#33affc\",\"#33aefc\",\"#34adfc\",\"#34abfc\",\"#34aafc\",\"#35a9fc\",\"#35a8fc\",\"#35a6fc\",\"#35a5fc\",\"#35a4fc\",\"#35a3fc\",\"#35a1fc\",\"#35a0fc\",\"#359ffc\",\"#359dfc\",\"#359cfc\",\"#359bfc\",\"#349afd\",\"#3498fd\",\"#3497fd\",\"#3396fd\",\"#3395fd\",\"#3293fd\",\"#3292fd\",\"#3191fd\",\"#3090fd\",\"#308ffd\",\"#2f8dfd\",\"#2f8cfd\",\"#2e8bfd\",\"#2e8afd\",\"#2d88fd\",\"#2d87fd\",\"#2c86fd\",\"#2c84fd\",\"#2c83fd\",\"#2c82fd\",\"#2b81fd\",\"#2b7ffd\",\"#2b7efd\",\"#2b7dfd\",\"#2b7bfd\",\"#2b7afd\",\"#2b79fd\",\"#2b77fd\",\"#2b76fd\",\"#2b75fd\",\"#2b73fd\",\"#2c72fd\",\"#2c71fd\",\"#2c6ffd\",\"#2c6efd\",\"#2d6cfd\",\"#2d6bfd\",\"#2d6afc\",\"#2e68fc\",\"#2e67fc\",\"#2e65fc\",\"#2e64fc\",\"#2f62fc\",\"#2f61fc\",\"#2f5ffc\",\"#2f5efc\",\"#2f5dfc\",\"#2f5bfc\",\"#2f5afc\",\"#2f58fb\",\"#2f57fb\",\"#2f55fb\",\"#2f53fb\",\"#2f52fb\",\"#2f50fb\",\"#2f4ffb\",\"#2f4dfb\",\"#2e4cfb\",\"#2e4afb\",\"#2e48fb\",\"#2e47fa\",\"#2d45fa\",\"#2d43fa\",\"#2d42fa\",\"#2d40fa\",\"#2c3efa\",\"#2c3dfa\",\"#2b3bf9\",\"#2b39f9\",\"#2a37f9\",\"#2a36f8\",\"#2934f8\",\"#2832f7\",\"#2831f7\",\"#272ff6\",\"#262ef5\",\"#252cf5\",\"#252af4\",\"#2429f3\",\"#2327f2\",\"#2226f1\",\"#2124f0\",\"#2023ef\",\"#1f22ee\",\"#1e20ed\",\"#1d1feb\",\"#1c1eea\",\"#1b1ce9\",\"#1a1be7\",\"#181ae6\",\"#1719e5\",\"#1618e3\",\"#1417e1\",\"#1316e0\",\"#1215de\",\"#1014dc\",\"#0f13db\",\"#0e12d9\",\"#0d11d7\",\"#0c10d5\",\"#0b0fd3\",\"#0a0ed1\",\"#090dd0\",\"#080dce\",\"#080ccc\",\"#070bca\",\"#070ac8\",\"#0709c6\",\"#0708c4\",\"#0707c2\",\"#0707bf\",\"#0806bd\",\"#0806bb\",\"#0905b9\",\"#0904b7\",\"#0a04b5\",\"#0a04b2\",\"#0b03b0\",\"#0c03ae\",\"#0d02ab\",\"#0e02a9\",\"#0e02a7\",\"#0f02a4\",\"#0f01a2\",\"#1001a0\",\"#10019d\",\"#10019b\",\"#100199\",\"#100197\",\"#100194\",\"#0f0192\",\"#0f0190\",\"#0f018e\",\"#0e018b\",\"#0e0189\",\"#0d0187\",\"#0d0185\",\"#0c0183\",\"#0b0181\",\"#0b017e\",\"#0a017c\",\"#09017a\",\"#090178\",\"#080276\",\"#070274\",\"#060272\",\"#060270\",\"#05026e\",\"#04026c\",\"#030269\",\"#030267\",\"#020265\",\"#010263\",\"#010261\",\"#00025f\",\"#00025d\",\"#00025b\",\"#000259\",\"#000257\",\"#000255\",\"#000154\",\"#000152\",\"#000150\",\"#00004e\"]},\"id\":\"1528\",\"type\":\"LinearColorMapper\"},{\"attributes\":{\"margin\":[5,5,5,5],\"name\":\"HSpacer02236\",\"sizing_mode\":\"stretch_width\"},\"id\":\"1565\",\"type\":\"Spacer\"},{\"attributes\":{\"axis_label\":\"Region Count\",\"formatter\":{\"id\":\"1543\"},\"major_label_policy\":{\"id\":\"1544\"},\"ticker\":{\"id\":\"1512\"}},\"id\":\"1511\",\"type\":\"LinearAxis\"},{\"attributes\":{},\"id\":\"1509\",\"type\":\"CategoricalTicker\"},{\"attributes\":{\"below\":[{\"id\":\"1508\"}],\"center\":[{\"id\":\"1510\"},{\"id\":\"1514\"}],\"height\":300,\"left\":[{\"id\":\"1511\"}],\"margin\":[5,5,5,5],\"min_border_bottom\":10,\"min_border_left\":10,\"min_border_right\":10,\"min_border_top\":10,\"renderers\":[{\"id\":\"1537\"}],\"sizing_mode\":\"fixed\",\"title\":{\"id\":\"1500\"},\"toolbar\":{\"id\":\"1521\"},\"width\":700,\"x_range\":{\"id\":\"1496\"},\"x_scale\":{\"id\":\"1504\"},\"y_range\":{\"id\":\"1497\"},\"y_scale\":{\"id\":\"1506\"}},\"id\":\"1499\",\"subtype\":\"Figure\",\"type\":\"Plot\"},{\"attributes\":{\"source\":{\"id\":\"1529\"}},\"id\":\"1538\",\"type\":\"CDSView\"},{\"attributes\":{},\"id\":\"1519\",\"type\":\"ResetTool\"},{\"attributes\":{\"data\":{\"agent_name\":[\"Karen Clinton\",\"Diana Lee\",\"Anthony Garcia\"],\"color\":[3,2,2],\"region_count\":[3,2,2]},\"selected\":{\"id\":\"1530\"},\"selection_policy\":{\"id\":\"1553\"}},\"id\":\"1529\",\"type\":\"ColumnDataSource\"},{\"attributes\":{\"factors\":[\"Karen Clinton\",\"Diana Lee\",\"Anthony Garcia\"],\"tags\":[[[\"agent_name\",\"agent_name\",null]]]},\"id\":\"1496\",\"type\":\"FactorRange\"},{\"attributes\":{\"data_source\":{\"id\":\"1529\"},\"glyph\":{\"id\":\"1532\"},\"hover_glyph\":{\"id\":\"1535\"},\"muted_glyph\":{\"id\":\"1536\"},\"nonselection_glyph\":{\"id\":\"1533\"},\"selection_glyph\":{\"id\":\"1534\"},\"view\":{\"id\":\"1538\"}},\"id\":\"1537\",\"type\":\"GlyphRenderer\"},{\"attributes\":{\"fill_color\":{\"field\":\"color\",\"transform\":{\"id\":\"1528\"}},\"top\":{\"field\":\"region_count\"},\"width\":{\"value\":0.8},\"x\":{\"field\":\"agent_name\"}},\"id\":\"1535\",\"type\":\"VBar\"},{\"attributes\":{},\"id\":\"1517\",\"type\":\"WheelZoomTool\"},{\"attributes\":{},\"id\":\"1544\",\"type\":\"AllLabels\"},{\"attributes\":{},\"id\":\"1553\",\"type\":\"UnionRenderers\"},{\"attributes\":{\"end\":3.1,\"reset_end\":3.1,\"reset_start\":0.0,\"tags\":[[[\"region_count\",\"region_count\",null]]]},\"id\":\"1497\",\"type\":\"Range1d\"},{\"attributes\":{\"fill_alpha\":{\"value\":0.1},\"fill_color\":{\"field\":\"color\",\"transform\":{\"id\":\"1528\"}},\"line_alpha\":{\"value\":0.1},\"top\":{\"field\":\"region_count\"},\"width\":{\"value\":0.8},\"x\":{\"field\":\"agent_name\"}},\"id\":\"1533\",\"type\":\"VBar\"},{\"attributes\":{},\"id\":\"1512\",\"type\":\"BasicTicker\"},{\"attributes\":{\"axis_label\":\"Agent Name\",\"formatter\":{\"id\":\"1540\"},\"major_label_policy\":{\"id\":\"1539\"},\"ticker\":{\"id\":\"1509\"}},\"id\":\"1508\",\"type\":\"CategoricalAxis\"},{\"attributes\":{},\"id\":\"1515\",\"type\":\"SaveTool\"},{\"attributes\":{\"active_multi\":null,\"tools\":[{\"id\":\"1498\"},{\"id\":\"1515\"},{\"id\":\"1516\"},{\"id\":\"1517\"},{\"id\":\"1518\"},{\"id\":\"1519\"}]},\"id\":\"1521\",\"type\":\"Toolbar\"},{\"attributes\":{\"fill_color\":{\"field\":\"color\",\"transform\":{\"id\":\"1528\"}},\"top\":{\"field\":\"region_count\"},\"width\":{\"value\":0.8},\"x\":{\"field\":\"agent_name\"}},\"id\":\"1534\",\"type\":\"VBar\"},{\"attributes\":{\"overlay\":{\"id\":\"1520\"}},\"id\":\"1518\",\"type\":\"BoxZoomTool\"},{\"attributes\":{},\"id\":\"1504\",\"type\":\"CategoricalScale\"},{\"attributes\":{\"text\":\"Number of Regions per Agent\",\"text_color\":\"black\",\"text_font_size\":\"12pt\"},\"id\":\"1500\",\"type\":\"Title\"},{\"attributes\":{},\"id\":\"1516\",\"type\":\"PanTool\"},{\"attributes\":{},\"id\":\"1540\",\"type\":\"CategoricalTickFormatter\"}],\"root_ids\":[\"1494\"]},\"title\":\"Bokeh Application\",\"version\":\"2.3.2\"}};\n",
       "    var render_items = [{\"docid\":\"b9821cfc-e776-4f16-81c2-acdd3289c47a\",\"root_ids\":[\"1494\"],\"roots\":{\"1494\":\"fd32f3e4-6557-478f-a9c5-4aa6c601ebfd\"}}];\n",
       "    root.Bokeh.embed.embed_items_notebook(docs_json, render_items);\n",
       "  }\n",
       "  if (root.Bokeh !== undefined && root.Bokeh.Panel !== undefined) {\n",
       "    embed_document(root);\n",
       "  } else {\n",
       "    var attempts = 0;\n",
       "    var timer = setInterval(function(root) {\n",
       "      if (root.Bokeh !== undefined && root.Bokeh.Panel !== undefined) {\n",
       "        clearInterval(timer);\n",
       "        embed_document(root);\n",
       "      } else if (document.readyState == \"complete\") {\n",
       "        attempts++;\n",
       "        if (attempts > 200) {\n",
       "          clearInterval(timer);\n",
       "          console.log(\"Bokeh: ERROR: Unable to run BokehJS code because BokehJS library is missing\");\n",
       "        }\n",
       "      }\n",
       "    }, 25, root)\n",
       "  }\n",
       "})(window);</script>"
      ],
      "text/plain": [
       ":Bars   [agent_name]   (region_count)"
      ]
     },
     "execution_count": 17,
     "metadata": {
      "application/vnd.holoviews_exec.v0+json": {
       "id": "1494"
      }
     },
     "output_type": "execute_result"
    }
   ],
   "source": [
    "# Create the bar chart usig hvplot\n",
    "agent_region_df.hvplot.bar(\n",
    "    x=\"agent_name\",\n",
    "    y=\"region_count\",\n",
    "    xlabel=\"Agent Name\",\n",
    "    ylabel=\"Region Count\",\n",
    "    title=\"Number of Regions per Agent\",\n",
    "    color=\"region_count\",\n",
    ")\n"
   ]
  },
  {
   "cell_type": "markdown",
   "metadata": {},
   "source": [
    "## Create a DataFrame with Agent Count per Region Name"
   ]
  },
  {
   "cell_type": "code",
   "execution_count": 18,
   "metadata": {},
   "outputs": [
    {
     "data": {
      "text/html": [
       "<div>\n",
       "<style scoped>\n",
       "    .dataframe tbody tr th:only-of-type {\n",
       "        vertical-align: middle;\n",
       "    }\n",
       "\n",
       "    .dataframe tbody tr th {\n",
       "        vertical-align: top;\n",
       "    }\n",
       "\n",
       "    .dataframe thead th {\n",
       "        text-align: right;\n",
       "    }\n",
       "</style>\n",
       "<table border=\"1\" class=\"dataframe\">\n",
       "  <thead>\n",
       "    <tr style=\"text-align: right;\">\n",
       "      <th></th>\n",
       "      <th>region_name</th>\n",
       "      <th>agent_count</th>\n",
       "    </tr>\n",
       "  </thead>\n",
       "  <tbody>\n",
       "    <tr>\n",
       "      <th>0</th>\n",
       "      <td>Midwest</td>\n",
       "      <td>3</td>\n",
       "    </tr>\n",
       "    <tr>\n",
       "      <th>1</th>\n",
       "      <td>South</td>\n",
       "      <td>1</td>\n",
       "    </tr>\n",
       "    <tr>\n",
       "      <th>2</th>\n",
       "      <td>West</td>\n",
       "      <td>2</td>\n",
       "    </tr>\n",
       "    <tr>\n",
       "      <th>3</th>\n",
       "      <td>Northeast</td>\n",
       "      <td>1</td>\n",
       "    </tr>\n",
       "  </tbody>\n",
       "</table>\n",
       "</div>"
      ],
      "text/plain": [
       "  region_name  agent_count\n",
       "0     Midwest            3\n",
       "1       South            1\n",
       "2        West            2\n",
       "3   Northeast            1"
      ]
     },
     "execution_count": 18,
     "metadata": {},
     "output_type": "execute_result"
    }
   ],
   "source": [
    "# Write the SQL query\n",
    "query = \"\"\"\n",
    "SELECT region_name, COUNT(a.agent_id) as agent_count\n",
    "FROM agents a\n",
    "LEFT JOIN agent_region_junction b ON a.agent_id = b.agent_id\n",
    "LEFT JOIN regions c ON b.region_id = c.region_id\n",
    "GROUP BY c.region_name\n",
    "\"\"\"\n",
    "\n",
    "# Read the SQL query into a DataFrame\n",
    "agent_region_df = pd.read_sql(query, engine)\n",
    "\n",
    "# Show the DataFrame's head\n",
    "agent_region_df"
   ]
  },
  {
   "cell_type": "markdown",
   "metadata": {},
   "source": [
    "## Create a Bar Chart Showing Agent Count per Region Name"
   ]
  },
  {
   "cell_type": "code",
   "execution_count": 9,
   "metadata": {},
   "outputs": [
    {
     "data": {},
     "metadata": {},
     "output_type": "display_data"
    },
    {
     "data": {
      "application/vnd.holoviews_exec.v0+json": "",
      "text/html": [
       "<div id='1248'>\n",
       "\n",
       "\n",
       "\n",
       "\n",
       "\n",
       "  <div class=\"bk-root\" id=\"7c645276-9e3d-481f-8033-e4c028798339\" data-root-id=\"1248\"></div>\n",
       "</div>\n",
       "<script type=\"application/javascript\">(function(root) {\n",
       "  function embed_document(root) {\n",
       "    var docs_json = {\"979246d1-10e6-4a7a-a340-4f0f606650d5\":{\"defs\":[{\"extends\":null,\"module\":null,\"name\":\"ReactiveHTML1\",\"overrides\":[],\"properties\":[]},{\"extends\":null,\"module\":null,\"name\":\"FlexBox1\",\"overrides\":[],\"properties\":[{\"default\":\"flex-start\",\"kind\":null,\"name\":\"align_content\"},{\"default\":\"flex-start\",\"kind\":null,\"name\":\"align_items\"},{\"default\":\"row\",\"kind\":null,\"name\":\"flex_direction\"},{\"default\":\"wrap\",\"kind\":null,\"name\":\"flex_wrap\"},{\"default\":\"flex-start\",\"kind\":null,\"name\":\"justify_content\"}]},{\"extends\":null,\"module\":null,\"name\":\"TemplateActions1\",\"overrides\":[],\"properties\":[{\"default\":0,\"kind\":null,\"name\":\"open_modal\"},{\"default\":0,\"kind\":null,\"name\":\"close_modal\"}]},{\"extends\":null,\"module\":null,\"name\":\"MaterialTemplateActions1\",\"overrides\":[],\"properties\":[{\"default\":0,\"kind\":null,\"name\":\"open_modal\"},{\"default\":0,\"kind\":null,\"name\":\"close_modal\"}]}],\"roots\":{\"references\":[{\"attributes\":{},\"id\":\"1266\",\"type\":\"BasicTicker\"},{\"attributes\":{\"axis\":{\"id\":\"1262\"},\"grid_line_color\":null,\"ticker\":null},\"id\":\"1264\",\"type\":\"Grid\"},{\"attributes\":{},\"id\":\"1298\",\"type\":\"AllLabels\"},{\"attributes\":{\"children\":[{\"id\":\"1249\"},{\"id\":\"1253\"},{\"id\":\"1319\"}],\"margin\":[0,0,0,0],\"name\":\"Row01929\",\"tags\":[\"embedded\"]},\"id\":\"1248\",\"type\":\"Row\"},{\"attributes\":{},\"id\":\"1293\",\"type\":\"AllLabels\"},{\"attributes\":{\"axis_label\":\"Agent Count\",\"formatter\":{\"id\":\"1297\"},\"major_label_policy\":{\"id\":\"1298\"},\"ticker\":{\"id\":\"1266\"}},\"id\":\"1265\",\"type\":\"LinearAxis\"},{\"attributes\":{\"factors\":[\"Midwest\",\"South\",\"West\",\"Northeast\"],\"tags\":[[[\"region_name\",\"region_name\",null]]]},\"id\":\"1250\",\"type\":\"FactorRange\"},{\"attributes\":{\"callback\":null,\"renderers\":[{\"id\":\"1291\"}],\"tags\":[\"hv_created\"],\"tooltips\":[[\"region_name\",\"@{region_name}\"],[\"agent_count\",\"@{agent_count}\"]]},\"id\":\"1252\",\"type\":\"HoverTool\"},{\"attributes\":{\"axis\":{\"id\":\"1265\"},\"dimension\":1,\"grid_line_color\":null,\"ticker\":null},\"id\":\"1268\",\"type\":\"Grid\"},{\"attributes\":{\"margin\":[5,5,5,5],\"name\":\"HSpacer01933\",\"sizing_mode\":\"stretch_width\"},\"id\":\"1249\",\"type\":\"Spacer\"},{\"attributes\":{\"fill_color\":{\"field\":\"color\",\"transform\":{\"id\":\"1282\"}},\"top\":{\"field\":\"agent_count\"},\"width\":{\"value\":0.8},\"x\":{\"field\":\"region_name\"}},\"id\":\"1288\",\"type\":\"VBar\"},{\"attributes\":{\"bottom_units\":\"screen\",\"fill_alpha\":0.5,\"fill_color\":\"lightgrey\",\"left_units\":\"screen\",\"level\":\"overlay\",\"line_alpha\":1.0,\"line_color\":\"black\",\"line_dash\":[4,4],\"line_width\":2,\"right_units\":\"screen\",\"syncable\":false,\"top_units\":\"screen\"},\"id\":\"1274\",\"type\":\"BoxAnnotation\"},{\"attributes\":{},\"id\":\"1284\",\"type\":\"Selection\"},{\"attributes\":{\"data\":{\"agent_count\":[3,1,2,1],\"color\":[3,1,2,1],\"region_name\":[\"Midwest\",\"South\",\"West\",\"Northeast\"]},\"selected\":{\"id\":\"1284\"},\"selection_policy\":{\"id\":\"1307\"}},\"id\":\"1283\",\"type\":\"ColumnDataSource\"},{\"attributes\":{},\"id\":\"1297\",\"type\":\"BasicTickFormatter\"},{\"attributes\":{},\"id\":\"1294\",\"type\":\"CategoricalTickFormatter\"},{\"attributes\":{\"source\":{\"id\":\"1283\"}},\"id\":\"1292\",\"type\":\"CDSView\"},{\"attributes\":{\"below\":[{\"id\":\"1262\"}],\"center\":[{\"id\":\"1264\"},{\"id\":\"1268\"}],\"height\":300,\"left\":[{\"id\":\"1265\"}],\"margin\":[5,5,5,5],\"min_border_bottom\":10,\"min_border_left\":10,\"min_border_right\":10,\"min_border_top\":10,\"renderers\":[{\"id\":\"1291\"}],\"sizing_mode\":\"fixed\",\"title\":{\"id\":\"1254\"},\"toolbar\":{\"id\":\"1275\"},\"width\":700,\"x_range\":{\"id\":\"1250\"},\"x_scale\":{\"id\":\"1258\"},\"y_range\":{\"id\":\"1251\"},\"y_scale\":{\"id\":\"1260\"}},\"id\":\"1253\",\"subtype\":\"Figure\",\"type\":\"Plot\"},{\"attributes\":{\"active_multi\":null,\"tools\":[{\"id\":\"1252\"},{\"id\":\"1269\"},{\"id\":\"1270\"},{\"id\":\"1271\"},{\"id\":\"1272\"},{\"id\":\"1273\"}]},\"id\":\"1275\",\"type\":\"Toolbar\"},{\"attributes\":{},\"id\":\"1269\",\"type\":\"SaveTool\"},{\"attributes\":{},\"id\":\"1307\",\"type\":\"UnionRenderers\"},{\"attributes\":{},\"id\":\"1270\",\"type\":\"PanTool\"},{\"attributes\":{},\"id\":\"1260\",\"type\":\"LinearScale\"},{\"attributes\":{\"fill_alpha\":{\"value\":0.1},\"fill_color\":{\"field\":\"color\",\"transform\":{\"id\":\"1282\"}},\"line_alpha\":{\"value\":0.1},\"top\":{\"field\":\"agent_count\"},\"width\":{\"value\":0.8},\"x\":{\"field\":\"region_name\"}},\"id\":\"1287\",\"type\":\"VBar\"},{\"attributes\":{},\"id\":\"1273\",\"type\":\"ResetTool\"},{\"attributes\":{},\"id\":\"1271\",\"type\":\"WheelZoomTool\"},{\"attributes\":{\"end\":3.2,\"reset_end\":3.2,\"reset_start\":0.0,\"tags\":[[[\"agent_count\",\"agent_count\",null]]]},\"id\":\"1251\",\"type\":\"Range1d\"},{\"attributes\":{\"fill_alpha\":{\"value\":0.2},\"fill_color\":{\"field\":\"color\",\"transform\":{\"id\":\"1282\"}},\"line_alpha\":{\"value\":0.2},\"top\":{\"field\":\"agent_count\"},\"width\":{\"value\":0.8},\"x\":{\"field\":\"region_name\"}},\"id\":\"1290\",\"type\":\"VBar\"},{\"attributes\":{\"overlay\":{\"id\":\"1274\"}},\"id\":\"1272\",\"type\":\"BoxZoomTool\"},{\"attributes\":{\"fill_color\":{\"field\":\"color\",\"transform\":{\"id\":\"1282\"}},\"top\":{\"field\":\"agent_count\"},\"width\":{\"value\":0.8},\"x\":{\"field\":\"region_name\"}},\"id\":\"1286\",\"type\":\"VBar\"},{\"attributes\":{\"data_source\":{\"id\":\"1283\"},\"glyph\":{\"id\":\"1286\"},\"hover_glyph\":{\"id\":\"1289\"},\"muted_glyph\":{\"id\":\"1290\"},\"nonselection_glyph\":{\"id\":\"1287\"},\"selection_glyph\":{\"id\":\"1288\"},\"view\":{\"id\":\"1292\"}},\"id\":\"1291\",\"type\":\"GlyphRenderer\"},{\"attributes\":{},\"id\":\"1263\",\"type\":\"CategoricalTicker\"},{\"attributes\":{\"text\":\"Number of Agents per Region\",\"text_color\":\"black\",\"text_font_size\":\"12pt\"},\"id\":\"1254\",\"type\":\"Title\"},{\"attributes\":{\"fill_color\":{\"field\":\"color\",\"transform\":{\"id\":\"1282\"}},\"top\":{\"field\":\"agent_count\"},\"width\":{\"value\":0.8},\"x\":{\"field\":\"region_name\"}},\"id\":\"1289\",\"type\":\"VBar\"},{\"attributes\":{\"axis_label\":\"Region Name\",\"formatter\":{\"id\":\"1294\"},\"major_label_policy\":{\"id\":\"1293\"},\"ticker\":{\"id\":\"1263\"}},\"id\":\"1262\",\"type\":\"CategoricalAxis\"},{\"attributes\":{\"high\":3,\"low\":1,\"palette\":[\"#b3fef5\",\"#b0fef5\",\"#adfdf5\",\"#a9fcf5\",\"#a6fbf6\",\"#a3faf6\",\"#a0faf6\",\"#9df9f6\",\"#9af8f6\",\"#97f7f6\",\"#93f7f6\",\"#90f6f6\",\"#8df5f6\",\"#8af4f7\",\"#87f3f7\",\"#83f2f7\",\"#80f2f7\",\"#7df1f7\",\"#79f0f7\",\"#76eff7\",\"#73eef7\",\"#6fedf8\",\"#6cecf8\",\"#68ecf8\",\"#65ebf8\",\"#61eaf8\",\"#5ee9f8\",\"#5ae8f8\",\"#57e7f8\",\"#53e6f8\",\"#50e5f9\",\"#4ce4f9\",\"#49e3f9\",\"#45e2f9\",\"#42e1f9\",\"#3ee0f9\",\"#3bdff9\",\"#38def9\",\"#35ddf9\",\"#32dcf9\",\"#30dbfa\",\"#2ed9fa\",\"#2dd8fa\",\"#2cd7fa\",\"#2bd6fa\",\"#2bd5fa\",\"#2ad3fa\",\"#2ad2fa\",\"#29d1fa\",\"#29d0fb\",\"#29cffb\",\"#28cdfb\",\"#28ccfb\",\"#28cbfb\",\"#28cafb\",\"#28c8fb\",\"#28c7fb\",\"#29c6fb\",\"#29c5fb\",\"#29c4fb\",\"#29c2fb\",\"#2ac1fb\",\"#2ac0fb\",\"#2bbffb\",\"#2bbdfc\",\"#2cbcfc\",\"#2dbbfc\",\"#2db9fc\",\"#2eb8fc\",\"#2fb7fc\",\"#2fb6fc\",\"#30b4fc\",\"#31b3fc\",\"#32b2fc\",\"#32b0fc\",\"#33affc\",\"#33aefc\",\"#34adfc\",\"#34abfc\",\"#34aafc\",\"#35a9fc\",\"#35a8fc\",\"#35a6fc\",\"#35a5fc\",\"#35a4fc\",\"#35a3fc\",\"#35a1fc\",\"#35a0fc\",\"#359ffc\",\"#359dfc\",\"#359cfc\",\"#359bfc\",\"#349afd\",\"#3498fd\",\"#3497fd\",\"#3396fd\",\"#3395fd\",\"#3293fd\",\"#3292fd\",\"#3191fd\",\"#3090fd\",\"#308ffd\",\"#2f8dfd\",\"#2f8cfd\",\"#2e8bfd\",\"#2e8afd\",\"#2d88fd\",\"#2d87fd\",\"#2c86fd\",\"#2c84fd\",\"#2c83fd\",\"#2c82fd\",\"#2b81fd\",\"#2b7ffd\",\"#2b7efd\",\"#2b7dfd\",\"#2b7bfd\",\"#2b7afd\",\"#2b79fd\",\"#2b77fd\",\"#2b76fd\",\"#2b75fd\",\"#2b73fd\",\"#2c72fd\",\"#2c71fd\",\"#2c6ffd\",\"#2c6efd\",\"#2d6cfd\",\"#2d6bfd\",\"#2d6afc\",\"#2e68fc\",\"#2e67fc\",\"#2e65fc\",\"#2e64fc\",\"#2f62fc\",\"#2f61fc\",\"#2f5ffc\",\"#2f5efc\",\"#2f5dfc\",\"#2f5bfc\",\"#2f5afc\",\"#2f58fb\",\"#2f57fb\",\"#2f55fb\",\"#2f53fb\",\"#2f52fb\",\"#2f50fb\",\"#2f4ffb\",\"#2f4dfb\",\"#2e4cfb\",\"#2e4afb\",\"#2e48fb\",\"#2e47fa\",\"#2d45fa\",\"#2d43fa\",\"#2d42fa\",\"#2d40fa\",\"#2c3efa\",\"#2c3dfa\",\"#2b3bf9\",\"#2b39f9\",\"#2a37f9\",\"#2a36f8\",\"#2934f8\",\"#2832f7\",\"#2831f7\",\"#272ff6\",\"#262ef5\",\"#252cf5\",\"#252af4\",\"#2429f3\",\"#2327f2\",\"#2226f1\",\"#2124f0\",\"#2023ef\",\"#1f22ee\",\"#1e20ed\",\"#1d1feb\",\"#1c1eea\",\"#1b1ce9\",\"#1a1be7\",\"#181ae6\",\"#1719e5\",\"#1618e3\",\"#1417e1\",\"#1316e0\",\"#1215de\",\"#1014dc\",\"#0f13db\",\"#0e12d9\",\"#0d11d7\",\"#0c10d5\",\"#0b0fd3\",\"#0a0ed1\",\"#090dd0\",\"#080dce\",\"#080ccc\",\"#070bca\",\"#070ac8\",\"#0709c6\",\"#0708c4\",\"#0707c2\",\"#0707bf\",\"#0806bd\",\"#0806bb\",\"#0905b9\",\"#0904b7\",\"#0a04b5\",\"#0a04b2\",\"#0b03b0\",\"#0c03ae\",\"#0d02ab\",\"#0e02a9\",\"#0e02a7\",\"#0f02a4\",\"#0f01a2\",\"#1001a0\",\"#10019d\",\"#10019b\",\"#100199\",\"#100197\",\"#100194\",\"#0f0192\",\"#0f0190\",\"#0f018e\",\"#0e018b\",\"#0e0189\",\"#0d0187\",\"#0d0185\",\"#0c0183\",\"#0b0181\",\"#0b017e\",\"#0a017c\",\"#09017a\",\"#090178\",\"#080276\",\"#070274\",\"#060272\",\"#060270\",\"#05026e\",\"#04026c\",\"#030269\",\"#030267\",\"#020265\",\"#010263\",\"#010261\",\"#00025f\",\"#00025d\",\"#00025b\",\"#000259\",\"#000257\",\"#000255\",\"#000154\",\"#000152\",\"#000150\",\"#00004e\"]},\"id\":\"1282\",\"type\":\"LinearColorMapper\"},{\"attributes\":{\"margin\":[5,5,5,5],\"name\":\"HSpacer01934\",\"sizing_mode\":\"stretch_width\"},\"id\":\"1319\",\"type\":\"Spacer\"},{\"attributes\":{},\"id\":\"1258\",\"type\":\"CategoricalScale\"}],\"root_ids\":[\"1248\"]},\"title\":\"Bokeh Application\",\"version\":\"2.3.2\"}};\n",
       "    var render_items = [{\"docid\":\"979246d1-10e6-4a7a-a340-4f0f606650d5\",\"root_ids\":[\"1248\"],\"roots\":{\"1248\":\"7c645276-9e3d-481f-8033-e4c028798339\"}}];\n",
       "    root.Bokeh.embed.embed_items_notebook(docs_json, render_items);\n",
       "  }\n",
       "  if (root.Bokeh !== undefined && root.Bokeh.Panel !== undefined) {\n",
       "    embed_document(root);\n",
       "  } else {\n",
       "    var attempts = 0;\n",
       "    var timer = setInterval(function(root) {\n",
       "      if (root.Bokeh !== undefined && root.Bokeh.Panel !== undefined) {\n",
       "        clearInterval(timer);\n",
       "        embed_document(root);\n",
       "      } else if (document.readyState == \"complete\") {\n",
       "        attempts++;\n",
       "        if (attempts > 200) {\n",
       "          clearInterval(timer);\n",
       "          console.log(\"Bokeh: ERROR: Unable to run BokehJS code because BokehJS library is missing\");\n",
       "        }\n",
       "      }\n",
       "    }, 25, root)\n",
       "  }\n",
       "})(window);</script>"
      ],
      "text/plain": [
       ":Bars   [region_name]   (agent_count)"
      ]
     },
     "execution_count": 9,
     "metadata": {
      "application/vnd.holoviews_exec.v0+json": {
       "id": "1248"
      }
     },
     "output_type": "execute_result"
    }
   ],
   "source": [
    "# Create the bar chart usig hvplot\n",
    "agent_region_df.hvplot.bar(\n",
    "    x=\"region_name\",\n",
    "    y=\"agent_count\",\n",
    "    xlabel=\"Region Name\",\n",
    "    ylabel=\"Agent Count\",\n",
    "    title=\"Number of Agents per Region\",\n",
    "    color=\"agent_count\",\n",
    ")"
   ]
  },
  {
   "cell_type": "code",
   "execution_count": null,
   "metadata": {},
   "outputs": [],
   "source": []
  }
 ],
 "metadata": {
  "file_extension": ".py",
  "kernelspec": {
   "display_name": "Python 3",
   "language": "python",
   "name": "python3"
  },
  "language_info": {
   "codemirror_mode": {
    "name": "ipython",
    "version": 3
   },
   "file_extension": ".py",
   "mimetype": "text/x-python",
   "name": "python",
   "nbconvert_exporter": "python",
   "pygments_lexer": "ipython3",
   "version": "3.7.10"
  },
  "mimetype": "text/x-python",
  "name": "python",
  "npconvert_exporter": "python",
  "pygments_lexer": "ipython3",
  "version": 3
 },
 "nbformat": 4,
 "nbformat_minor": 4
}
